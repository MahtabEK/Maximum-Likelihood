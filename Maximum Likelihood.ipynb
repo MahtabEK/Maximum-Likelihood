{
 "cells": [
  {
   "cell_type": "code",
   "execution_count": 1,
   "metadata": {},
   "outputs": [],
   "source": [
    "import numpy as np\n",
    "import matplotlib.pyplot as plt\n",
    "import pandas as pd\n",
    "from scipy.optimize import minimize\n",
    "from scipy.special import factorial\n",
    "from scipy.stats import linregress\n",
    "from scipy.special import gammaln\n",
    "from scipy.stats import poisson\n",
    "import pytest"
   ]
  },
  {
   "cell_type": "markdown",
   "metadata": {
    "nbgrader": {
     "grade": false,
     "grade_id": "cell-52cc9d23492f513d",
     "locked": true,
     "schema_version": 1,
     "solution": false
    }
   },
   "source": [
    "## Maximum Likelihood\n",
    "\n",
    "The poisson distribution https://en.wikipedia.org/wiki/Poisson_distribution is a discrete probability distribution often used to describe count-based data, like how many snowflakes fall in a day. If we have count data 𝑦 that are influenced by a covariate or feature 𝑥 , we can used the maximum likelihood principle to develop a regression model relating 𝑥 to y.\n",
    "\n",
    "### Part 1"
   ]
  },
  {
   "cell_type": "code",
   "execution_count": 2,
   "metadata": {
    "nbgrader": {
     "grade": false,
     "grade_id": "cell-53453625403f20d1",
     "locked": false,
     "schema_version": 1,
     "solution": true
    }
   },
   "outputs": [],
   "source": [
    "def poissonNegLogLikelihood(lam, y):\n",
    "    \"\"\"\n",
    "    Computes the negative log-likelihood for a Poisson random variable.\n",
    "\n",
    "    Inputs:\n",
    "    lam - float or array.  Parameter for the poisson distribution.\n",
    "    y - float or array.  Observed data.\n",
    "\n",
    "    Outputs:\n",
    "    log_lik - float.  The negative log-likelihood for the data (y) with parameter (lam).\n",
    "\n",
    "    \"\"\"\n",
    "    log_lik = -1 * np.sum(y * np.log(lam) - lam - gammaln(y + 1))\n",
    "    return log_lik"
   ]
  },
  {
   "cell_type": "markdown",
   "metadata": {
    "nbgrader": {
     "grade": false,
     "grade_id": "cell-e1536169f75db24f",
     "locked": true,
     "schema_version": 1,
     "solution": false
    }
   },
   "source": [
    "### Part 2"
   ]
  },
  {
   "cell_type": "code",
   "execution_count": 3,
   "metadata": {
    "nbgrader": {
     "grade": true,
     "grade_id": "cell-8be43b21b85443c0",
     "locked": true,
     "points": 0,
     "schema_version": 1,
     "solution": false
    }
   },
   "outputs": [],
   "source": [
    "def poisson_mle(data):\n",
    "    \"\"\"\n",
    "    Compute the maximum likelihood estimate (mle) for a poisson distribution given data.\n",
    "\n",
    "    Inputs:\n",
    "    data - float or array.  Observed data.\n",
    "\n",
    "    Outputs:\n",
    "    lambda_mle - float.  The mle for poisson distribution.\n",
    "    \"\"\"\n",
    "    mle = minimize(poissonNegLogLikelihood, 1, args=(data))\n",
    "    lambda_mle = mle.x[0]\n",
    "    return lambda_mle"
   ]
  },
  {
   "cell_type": "markdown",
   "metadata": {
    "nbgrader": {
     "grade": false,
     "grade_id": "cell-997a2577c12981ba",
     "locked": true,
     "schema_version": 1,
     "solution": false
    }
   },
   "source": [
    "### Part 3"
   ]
  },
  {
   "cell_type": "code",
   "execution_count": 4,
   "metadata": {
    "nbgrader": {
     "grade": true,
     "grade_id": "cell-0ce8e86fb1602e7f",
     "locked": true,
     "points": 0,
     "schema_version": 1,
     "solution": false
    }
   },
   "outputs": [],
   "source": [
    "def poissonRegressionNegLogLikelihood(b, X, y):\n",
    "    \"\"\"\n",
    "    Computes the negative log-likelihood for a poisson regression.\n",
    "\n",
    "    Inputs:\n",
    "    b - array.  Coefficients for the poisson regression\n",
    "    X - array.  Design matrix.\n",
    "    y - array.  Observed outcomes.\n",
    "\n",
    "    Outputs:\n",
    "    log_lik - float.  Negative log likelihood for the poisson regression with coefficients b.\n",
    "\n",
    "    \"\"\"\n",
    "    n, p = X.shape\n",
    "    eta = X @ b\n",
    "    lam = np.exp(eta)\n",
    "    log_lik = poissonNegLogLikelihood(lam, y)\n",
    "    \n",
    "    return log_lik"
   ]
  },
  {
   "cell_type": "markdown",
   "metadata": {
    "nbgrader": {
     "grade": false,
     "grade_id": "cell-293b103a8777b257",
     "locked": true,
     "schema_version": 1,
     "solution": false
    }
   },
   "source": [
    "### Part 4\n",
    "\n",
    "Identity link (λ =X * β) is usually used for Linear-response data and with normal distrubution which has infinite support, which means values modelled by the normal can take any negative or positive number. Although our data (number of snowflakes) are count data, if the counts are large the may well look pretty normal. But Counts are integers, whereas the normal distribution is for continuous data that can include any fraction. Counts also can’t be less than zero, but the Normal distribution model’s stochastic processes that draw zeros and negative numbers.\n",
    " \n",
    "Here we are using poisson distribution which is used to describe the number of snowflakes in this observation. Poisson distribution is specified by its only parameter which is lambda. Lambda equals the mean and variance. Using the log link assures that the modeled means on the count scale are strictly positive.\n",
    " \n",
    "If x ∈ Rn is a vector of independent variables, then the model would take the form of log(E(Y|x)) = Θx. As said above, lambda (λ) is a mean devided by the dimension of our observation space and it is equal to (E(Y|x)). E(y|x) = exp(Θx) => λ = exp(Θx)\n",
    " \n",
    "If we just passed λ = Θx, it could be sometimes problematic, because λ must be >0 but  Θx may not."
   ]
  },
  {
   "cell_type": "markdown",
   "metadata": {},
   "source": [
    "### Part 5"
   ]
  },
  {
   "cell_type": "code",
   "execution_count": 5,
   "metadata": {},
   "outputs": [],
   "source": [
    "def fitPoissonRegression(X, y):\n",
    "    \"\"\"\n",
    "    Fits a poisson regression given data and outcomes.\n",
    "\n",
    "    Inputs:\n",
    "    X - array.  Design matrix\n",
    "    y - array.  Observed outcomes\n",
    "\n",
    "    Outputs:\n",
    "    betas_est - array.  Coefficients which maximize the negative log-liklihood.\n",
    "    \"\"\"\n",
    "    _, p = X.shape\n",
    "    b = np.random.normal(size=p)\n",
    "    betas_est = minimize(poissonRegressionNegLogLikelihood, b, args=(X, y)).x\n",
    "\n",
    "    return betas_est"
   ]
  },
  {
   "cell_type": "markdown",
   "metadata": {
    "nbgrader": {
     "grade": false,
     "grade_id": "cell-a9fd51947c881221",
     "locked": true,
     "schema_version": 1,
     "solution": false
    }
   },
   "source": [
    "### Part 6  "
   ]
  },
  {
   "cell_type": "code",
   "execution_count": 6,
   "metadata": {
    "nbgrader": {
     "grade": true,
     "grade_id": "cell-d0d2d11d4d61a32a",
     "locked": false,
     "points": 0,
     "schema_version": 1,
     "solution": true
    }
   },
   "outputs": [
    {
     "name": "stdout",
     "output_type": "stream",
     "text": [
      "605662.5303404412\n"
     ]
    },
    {
     "data": {
      "image/png": "[encoded data removed]",
      "text/plain": [
       "<Figure size 720x480 with 1 Axes>"
      ]
     },
     "metadata": {
      "needs_background": "light"
     },
     "output_type": "display_data"
    }
   ],
   "source": [
    "def makePoissonRegressionPlot():\n",
    "    df = pd.read_csv(\"poisson_regression_data.csv\")\n",
    "\n",
    "    fig, ax = plt.subplots(dpi=120)\n",
    "    df.plot.scatter(\"x\", \"y\", ax=ax, alpha=0.5)\n",
    "\n",
    "    x = df.x.values.reshape(-1, 1)\n",
    "    X = np.c_[np.ones(x.shape[0]), x]\n",
    "    y = df.y.values\n",
    "    \n",
    "    print(poissonRegressionNegLogLikelihood(np.array([2,3]), X,y))\n",
    "\n",
    "    b0, b1 = fitPoissonRegression(X, y)\n",
    "\n",
    "    xx = np.linspace(-2, 2, 1001).reshape(-1, 1)\n",
    "    yy = np.exp(b0 + b1 * xx)\n",
    "\n",
    "    ax.plot(xx, yy, color=\"red\")\n",
    "\n",
    "    plt.tight_layout()\n",
    "    plt.savefig(\"poisson_regression.png\")\n",
    "    \n",
    "    return None\n",
    "\n",
    "makePoissonRegressionPlot()"
   ]
  },
  {
   "cell_type": "markdown",
   "metadata": {
    "nbgrader": {
     "grade": false,
     "grade_id": "cell-60bc43f590423573",
     "locked": true,
     "schema_version": 1,
     "solution": false
    }
   },
   "source": [
    "### Part 7"
   ]
  },
  {
   "cell_type": "code",
   "execution_count": 7,
   "metadata": {
    "nbgrader": {
     "grade": true,
     "grade_id": "cell-eba2c3c0a596b3fb",
     "locked": false,
     "points": 0,
     "schema_version": 1,
     "solution": true
    }
   },
   "outputs": [
    {
     "data": {
      "image/png": "[encoded data removed]",
      "text/plain": [
       "<Figure size 720x480 with 1 Axes>"
      ]
     },
     "metadata": {
      "needs_background": "light"
     },
     "output_type": "display_data"
    }
   ],
   "source": [
    "\n",
    "def makeLinearRegressionPlot():\n",
    "    df = pd.read_csv(\"poisson_regression_data.csv\")\n",
    "\n",
    "    fig, ax = plt.subplots(dpi=120)\n",
    "    df.plot.scatter(\"x\", \"y\", ax=ax, alpha=0.5)\n",
    "\n",
    "    x = df.x.values\n",
    "    y = df.y.values\n",
    "\n",
    "    slope, intercept, *_ = linregress(x, y)\n",
    "\n",
    "    xx = np.linspace(-2, 2, 1001)\n",
    "    yy = slope * xx + intercept\n",
    "\n",
    "    ax.plot(xx, yy, color=\"red\")\n",
    "\n",
    "    plt.tight_layout()\n",
    "    plt.savefig(\"linear_regression.png\")\n",
    "\n",
    "    return None\n",
    "\n",
    "makeLinearRegressionPlot()\n"
   ]
  },
  {
   "cell_type": "markdown",
   "metadata": {
    "nbgrader": {
     "grade": true,
     "grade_id": "cell-7b294a6a4f8afdab",
     "locked": false,
     "points": 0,
     "schema_version": 1,
     "solution": true
    }
   },
   "source": [
    "### Part 8\n",
    "\n",
    "\n",
    "1) The coefficients from OLS are different from those from Poisson regression because OLS and Poisson regression have different likelihoods\n",
    "\n",
    "2) The predicted mean counts are different because OLS makes different assumptions about the conditional mean.  OLS allows for negative counts, which may not be physically possible in some scenarios. In this case, since the data are close to 0, OLS results in negative counts.\n",
    "\n"
   ]
  },
  {
   "cell_type": "code",
   "execution_count": null,
   "metadata": {},
   "outputs": [],
   "source": []
  }
 ],
 "metadata": {
  "celltoolbar": "Create Assignment",
  "kernelspec": {
   "display_name": "Python 3",
   "language": "python",
   "name": "python3"
  },
  "language_info": {
   "codemirror_mode": {
    "name": "ipython",
    "version": 3
   },
   "file_extension": ".py",
   "mimetype": "text/x-python",
   "name": "python",
   "nbconvert_exporter": "python",
   "pygments_lexer": "ipython3",
   "version": "3.7.3"
  }
 },
 "nbformat": 4,
 "nbformat_minor": 2
}
